{
 "cells": [
  {
   "cell_type": "code",
   "execution_count": null,
   "metadata": {},
   "outputs": [
    {
     "ename": "",
     "evalue": "",
     "output_type": "error",
     "traceback": [
      "\u001b[1;31mRunning cells with '.venv' requires the ipykernel package.\n",
      "\u001b[1;31mRun the following command to install 'ipykernel' into the Python environment. \n",
      "\u001b[1;31mCommand: '/root/sam30/Practice30/.venv/bin/python -m pip install ipykernel -U --force-reinstall'"
     ]
    }
   ],
   "source": [
    "\n",
    "input=[[0,0],[0,1],[1,0],[1,1]]\n",
    "#OR GATE\n",
    "output=[0,1,1,1]\n",
    "\n",
    "# %%\n",
    "import numpy as np\n",
    "\n",
    "# %%\n",
    "input_value=np.array(input)\n",
    "output=np.array(output)\n",
    "\n",
    "# %%\n",
    "output=output.reshape(len(output),1)\n",
    "\n",
    "# %%\n",
    "def sigmoidal_function(x):\n",
    "    return 1/1+np.exp(-x)\n",
    "def derivative_function(x):\n",
    "    return sigmoidal_function(x)*(1-sigmoidal_function(x))\n",
    "\n",
    "# %%\n",
    "weights=np.array([[0.1],[0.1]])\n",
    "bias=0.5\n",
    "\n",
    "\n",
    "# %%\n",
    "error_data=[]\n",
    "for epoch in range(100):\n",
    "    # xW + b\n",
    "    weighted_sum=np.dot(input_value,weights)+bias\n",
    "    # g(xW + b)\n",
    "    first_output=sigmoidal_function(weighted_sum)\n",
    "    # g'(x) = g(x)(1-g(x))\n",
    "    # y - hj\n",
    "    error=first_output-output\n",
    "    first_der=error\n",
    "    second_der=derivative_function(first_output)\n",
    "    derivate=first_der*second_der\n",
    "    t_input=input_value.T\n",
    "    final_der=np.dot(t_input,output)\n",
    "    weights=weights-0.05*final_der\n",
    "    for i in derivate:\n",
    "        bias=bias-0.05*i\n",
    "    total_error=np.square(np.subtract(first_output,output)).mean()\n",
    "    error_data.append([1,total_error])\n",
    "\n",
    "# %%\n",
    "error_data\n",
    "\n",
    "# %%\n",
    "to_pred=np.array([0,0])\n",
    "result=np.dot(to_pred,weights)+bias\n",
    "res=sigmoidal_function(result)\n",
    "res\n"
   ]
  },
  {
   "cell_type": "code",
   "execution_count": null,
   "metadata": {},
   "outputs": [],
   "source": [
    "pip install matplotlib"
   ]
  },
  {
   "cell_type": "code",
   "execution_count": null,
   "metadata": {},
   "outputs": [],
   "source": [
    "import matplotlib.pyplot as plt\n",
    "\n",
    "# %%\n",
    "x_axis = []\n",
    "y_axis = []\n",
    "for i, value in enumerate(error_data):\n",
    "    x_axis.append(i)\n",
    "    y_axis.append(value)\n",
    "plt.plot(x_axis, y_axis)\n",
    "plt.xlabel(\"Epochs\")\n",
    "plt.ylabel(\"Loss\")\n",
    "plt.title(\"Loss Curve\")\n",
    "plt.show()"
   ]
  },
  {
   "cell_type": "code",
   "execution_count": null,
   "metadata": {},
   "outputs": [],
   "source": [
    "import pickle\n",
    "\n",
    "mytrained_network = {\n",
    "    \"weights\": weights,\n",
    "    \"bias\": bias\n",
    "}\n",
    "\n",
    "with open('myfirstnn.pickle', 'wb') as file:\n",
    "    pickle.dump(mytrained_network, file)"
   ]
  }
 ],
 "metadata": {
  "kernelspec": {
   "display_name": ".venv",
   "language": "python",
   "name": "python3"
  },
  "language_info": {
   "name": "python",
   "version": "3.8.10"
  },
  "orig_nbformat": 4
 },
 "nbformat": 4,
 "nbformat_minor": 2
}
